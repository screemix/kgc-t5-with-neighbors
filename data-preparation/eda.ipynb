{
 "cells": [
  {
   "cell_type": "code",
   "execution_count": 1,
   "metadata": {},
   "outputs": [
    {
     "name": "stderr",
     "output_type": "stream",
     "text": [
      "/Users/alla/LM-based-graph-link-prediction/env/lib/python3.10/site-packages/tqdm/auto.py:22: TqdmWarning: IProgress not found. Please update jupyter and ipywidgets. See https://ipywidgets.readthedocs.io/en/stable/user_install.html\n",
      "  from .autonotebook import tqdm as notebook_tqdm\n"
     ]
    }
   ],
   "source": [
    "from pykeen import datasets\n",
    "import pykeen.datasets.analysis as analysis\n",
    "import pandas as pd\n",
    "from tqdm import tqdm\n",
    "import seaborn as sns"
   ]
  },
  {
   "cell_type": "code",
   "execution_count": 2,
   "metadata": {},
   "outputs": [],
   "source": [
    "dataset = datasets.Wikidata5M()"
   ]
  },
  {
   "cell_type": "code",
   "execution_count": 3,
   "metadata": {},
   "outputs": [
    {
     "name": "stderr",
     "output_type": "stream",
     "text": [
      "You're trying to map triples with 156 entities and 0 relations that are not in the training set. These triples will be excluded from the mapping.\n",
      "In total 156 from 5133 triples were filtered out\n",
      "You're trying to map triples with 180 entities and 0 relations that are not in the training set. These triples will be excluded from the mapping.\n",
      "In total 180 from 5163 triples were filtered out\n"
     ]
    },
    {
     "name": "stdout",
     "output_type": "stream",
     "text": [
      "Wikidata5M (create_inverse_triples=False)\n",
      "Name        Entities    Relations      Triples\n",
      "----------  ----------  -----------  ---------\n",
      "Training    4594149     822           20614279\n",
      "Testing     4594149     822               4977\n",
      "Validation  4594149     822               4983\n",
      "Total       -           -             20624239\n",
      "Head    Relation    tail\n",
      "------  ----------  --------\n",
      "Q1      P1343       Q602358\n",
      "Q1      P1419       Q1647152\n",
      "Q1      P1552       Q11412\n",
      "Q1      P2184       Q136407\n",
      "Q1      P2670       Q18343\n",
      "\n"
     ]
    }
   ],
   "source": [
    "dataset.summarize()"
   ]
  },
  {
   "cell_type": "code",
   "execution_count": 4,
   "metadata": {},
   "outputs": [
    {
     "data": {
      "text/html": [
       "<div>\n",
       "<style scoped>\n",
       "    .dataframe tbody tr th:only-of-type {\n",
       "        vertical-align: middle;\n",
       "    }\n",
       "\n",
       "    .dataframe tbody tr th {\n",
       "        vertical-align: top;\n",
       "    }\n",
       "\n",
       "    .dataframe thead th {\n",
       "        text-align: right;\n",
       "    }\n",
       "</style>\n",
       "<table border=\"1\" class=\"dataframe\">\n",
       "  <thead>\n",
       "    <tr style=\"text-align: right;\">\n",
       "      <th></th>\n",
       "      <th>head</th>\n",
       "      <th>relation</th>\n",
       "      <th>tail</th>\n",
       "    </tr>\n",
       "    <tr>\n",
       "      <th>id</th>\n",
       "      <th></th>\n",
       "      <th></th>\n",
       "      <th></th>\n",
       "    </tr>\n",
       "  </thead>\n",
       "  <tbody>\n",
       "    <tr>\n",
       "      <th>0</th>\n",
       "      <td>Q29387131</td>\n",
       "      <td>P31</td>\n",
       "      <td>Q5</td>\n",
       "    </tr>\n",
       "    <tr>\n",
       "      <th>1</th>\n",
       "      <td>Q326660</td>\n",
       "      <td>P1412</td>\n",
       "      <td>Q652</td>\n",
       "    </tr>\n",
       "    <tr>\n",
       "      <th>2</th>\n",
       "      <td>Q7339549</td>\n",
       "      <td>P57</td>\n",
       "      <td>Q1365729</td>\n",
       "    </tr>\n",
       "    <tr>\n",
       "      <th>3</th>\n",
       "      <td>Q554335</td>\n",
       "      <td>P27</td>\n",
       "      <td>Q29999</td>\n",
       "    </tr>\n",
       "    <tr>\n",
       "      <th>4</th>\n",
       "      <td>Q20641639</td>\n",
       "      <td>P54</td>\n",
       "      <td>Q80955</td>\n",
       "    </tr>\n",
       "    <tr>\n",
       "      <th>...</th>\n",
       "      <td>...</td>\n",
       "      <td>...</td>\n",
       "      <td>...</td>\n",
       "    </tr>\n",
       "    <tr>\n",
       "      <th>20614274</th>\n",
       "      <td>Q7179406</td>\n",
       "      <td>P131</td>\n",
       "      <td>Q1439</td>\n",
       "    </tr>\n",
       "    <tr>\n",
       "      <th>20614275</th>\n",
       "      <td>Q5363458</td>\n",
       "      <td>P19</td>\n",
       "      <td>Q60</td>\n",
       "    </tr>\n",
       "    <tr>\n",
       "      <th>20614276</th>\n",
       "      <td>Q6891853</td>\n",
       "      <td>P31</td>\n",
       "      <td>Q5</td>\n",
       "    </tr>\n",
       "    <tr>\n",
       "      <th>20614277</th>\n",
       "      <td>Q8350496</td>\n",
       "      <td>P1142</td>\n",
       "      <td>Q564999</td>\n",
       "    </tr>\n",
       "    <tr>\n",
       "      <th>20614278</th>\n",
       "      <td>Q2485452</td>\n",
       "      <td>P31</td>\n",
       "      <td>Q34442</td>\n",
       "    </tr>\n",
       "  </tbody>\n",
       "</table>\n",
       "<p>20614279 rows × 3 columns</p>\n",
       "</div>"
      ],
      "text/plain": [
       "               head relation      tail\n",
       "id                                    \n",
       "0         Q29387131      P31        Q5\n",
       "1           Q326660    P1412      Q652\n",
       "2          Q7339549      P57  Q1365729\n",
       "3           Q554335      P27    Q29999\n",
       "4         Q20641639      P54    Q80955\n",
       "...             ...      ...       ...\n",
       "20614274   Q7179406     P131     Q1439\n",
       "20614275   Q5363458      P19       Q60\n",
       "20614276   Q6891853      P31        Q5\n",
       "20614277   Q8350496    P1142   Q564999\n",
       "20614278   Q2485452      P31    Q34442\n",
       "\n",
       "[20614279 rows x 3 columns]"
      ]
     },
     "execution_count": 4,
     "metadata": {},
     "output_type": "execute_result"
    }
   ],
   "source": [
    "train = pd.read_csv(\n",
    "    dataset.training_path,\n",
    "    sep=\"\\t\",\n",
    "    names=[\"head\", \"relation\", \"tail\"],\n",
    "    encoding=\"utf-8\",\n",
    ")\n",
    "train.index.name = \"id\"\n",
    "train"
   ]
  },
  {
   "cell_type": "code",
   "execution_count": 5,
   "metadata": {},
   "outputs": [
    {
     "data": {
      "text/plain": [
       "4594149"
      ]
     },
     "execution_count": 5,
     "metadata": {},
     "output_type": "execute_result"
    }
   ],
   "source": [
    "len(set(list(train[\"head\"]) + list(train[\"tail\"])))"
   ]
  },
  {
   "cell_type": "code",
   "execution_count": 6,
   "metadata": {},
   "outputs": [
    {
     "data": {
      "text/html": [
       "<div>\n",
       "<style scoped>\n",
       "    .dataframe tbody tr th:only-of-type {\n",
       "        vertical-align: middle;\n",
       "    }\n",
       "\n",
       "    .dataframe tbody tr th {\n",
       "        vertical-align: top;\n",
       "    }\n",
       "\n",
       "    .dataframe thead th {\n",
       "        text-align: right;\n",
       "    }\n",
       "</style>\n",
       "<table border=\"1\" class=\"dataframe\">\n",
       "  <thead>\n",
       "    <tr style=\"text-align: right;\">\n",
       "      <th></th>\n",
       "      <th>head</th>\n",
       "      <th>relation</th>\n",
       "      <th>tail</th>\n",
       "    </tr>\n",
       "    <tr>\n",
       "      <th>id</th>\n",
       "      <th></th>\n",
       "      <th></th>\n",
       "      <th></th>\n",
       "    </tr>\n",
       "  </thead>\n",
       "  <tbody>\n",
       "    <tr>\n",
       "      <th>0</th>\n",
       "      <td>Q7965079</td>\n",
       "      <td>P27</td>\n",
       "      <td>Q16</td>\n",
       "    </tr>\n",
       "    <tr>\n",
       "      <th>1</th>\n",
       "      <td>Q6719921</td>\n",
       "      <td>P31</td>\n",
       "      <td>Q11446</td>\n",
       "    </tr>\n",
       "    <tr>\n",
       "      <th>2</th>\n",
       "      <td>Q4925109</td>\n",
       "      <td>P175</td>\n",
       "      <td>Q5165801</td>\n",
       "    </tr>\n",
       "    <tr>\n",
       "      <th>3</th>\n",
       "      <td>Q11010724</td>\n",
       "      <td>P734</td>\n",
       "      <td>Q59853</td>\n",
       "    </tr>\n",
       "    <tr>\n",
       "      <th>4</th>\n",
       "      <td>Q1236794</td>\n",
       "      <td>P31</td>\n",
       "      <td>Q1134686</td>\n",
       "    </tr>\n",
       "    <tr>\n",
       "      <th>...</th>\n",
       "      <td>...</td>\n",
       "      <td>...</td>\n",
       "      <td>...</td>\n",
       "    </tr>\n",
       "    <tr>\n",
       "      <th>5128</th>\n",
       "      <td>Q221157</td>\n",
       "      <td>P47</td>\n",
       "      <td>Q951695</td>\n",
       "    </tr>\n",
       "    <tr>\n",
       "      <th>5129</th>\n",
       "      <td>Q952206</td>\n",
       "      <td>P47</td>\n",
       "      <td>Q506745</td>\n",
       "    </tr>\n",
       "    <tr>\n",
       "      <th>5130</th>\n",
       "      <td>Q801344</td>\n",
       "      <td>P131</td>\n",
       "      <td>Q6874</td>\n",
       "    </tr>\n",
       "    <tr>\n",
       "      <th>5131</th>\n",
       "      <td>Q7638539</td>\n",
       "      <td>P106</td>\n",
       "      <td>Q488205</td>\n",
       "    </tr>\n",
       "    <tr>\n",
       "      <th>5132</th>\n",
       "      <td>Q19517694</td>\n",
       "      <td>P735</td>\n",
       "      <td>Q220546</td>\n",
       "    </tr>\n",
       "  </tbody>\n",
       "</table>\n",
       "<p>5133 rows × 3 columns</p>\n",
       "</div>"
      ],
      "text/plain": [
       "           head relation      tail\n",
       "id                                \n",
       "0      Q7965079      P27       Q16\n",
       "1      Q6719921      P31    Q11446\n",
       "2      Q4925109     P175  Q5165801\n",
       "3     Q11010724     P734    Q59853\n",
       "4      Q1236794      P31  Q1134686\n",
       "...         ...      ...       ...\n",
       "5128    Q221157      P47   Q951695\n",
       "5129    Q952206      P47   Q506745\n",
       "5130    Q801344     P131     Q6874\n",
       "5131   Q7638539     P106   Q488205\n",
       "5132  Q19517694     P735   Q220546\n",
       "\n",
       "[5133 rows x 3 columns]"
      ]
     },
     "execution_count": 6,
     "metadata": {},
     "output_type": "execute_result"
    }
   ],
   "source": [
    "test = pd.read_csv(\n",
    "    dataset.testing_path, sep=\"\\t\", names=[\"head\", \"relation\", \"tail\"], encoding=\"utf-8\"\n",
    ")\n",
    "test.index.name = \"id\"\n",
    "test"
   ]
  },
  {
   "cell_type": "code",
   "execution_count": 7,
   "metadata": {},
   "outputs": [
    {
     "data": {
      "text/html": [
       "<div>\n",
       "<style scoped>\n",
       "    .dataframe tbody tr th:only-of-type {\n",
       "        vertical-align: middle;\n",
       "    }\n",
       "\n",
       "    .dataframe tbody tr th {\n",
       "        vertical-align: top;\n",
       "    }\n",
       "\n",
       "    .dataframe thead th {\n",
       "        text-align: right;\n",
       "    }\n",
       "</style>\n",
       "<table border=\"1\" class=\"dataframe\">\n",
       "  <thead>\n",
       "    <tr style=\"text-align: right;\">\n",
       "      <th></th>\n",
       "      <th>head</th>\n",
       "      <th>relation</th>\n",
       "      <th>tail</th>\n",
       "    </tr>\n",
       "    <tr>\n",
       "      <th>id</th>\n",
       "      <th></th>\n",
       "      <th></th>\n",
       "      <th></th>\n",
       "    </tr>\n",
       "  </thead>\n",
       "  <tbody>\n",
       "    <tr>\n",
       "      <th>0</th>\n",
       "      <td>Q3576734</td>\n",
       "      <td>P495</td>\n",
       "      <td>Q30</td>\n",
       "    </tr>\n",
       "    <tr>\n",
       "      <th>1</th>\n",
       "      <td>Q641724</td>\n",
       "      <td>P1412</td>\n",
       "      <td>Q1860</td>\n",
       "    </tr>\n",
       "    <tr>\n",
       "      <th>2</th>\n",
       "      <td>Q959357</td>\n",
       "      <td>P39</td>\n",
       "      <td>Q49476</td>\n",
       "    </tr>\n",
       "    <tr>\n",
       "      <th>3</th>\n",
       "      <td>Q4263990</td>\n",
       "      <td>P105</td>\n",
       "      <td>Q7432</td>\n",
       "    </tr>\n",
       "    <tr>\n",
       "      <th>4</th>\n",
       "      <td>Q4119101</td>\n",
       "      <td>P171</td>\n",
       "      <td>Q2906912</td>\n",
       "    </tr>\n",
       "    <tr>\n",
       "      <th>...</th>\n",
       "      <td>...</td>\n",
       "      <td>...</td>\n",
       "      <td>...</td>\n",
       "    </tr>\n",
       "    <tr>\n",
       "      <th>5158</th>\n",
       "      <td>Q2609942</td>\n",
       "      <td>P156</td>\n",
       "      <td>Q2611606</td>\n",
       "    </tr>\n",
       "    <tr>\n",
       "      <th>5159</th>\n",
       "      <td>Q1797671</td>\n",
       "      <td>P106</td>\n",
       "      <td>Q33999</td>\n",
       "    </tr>\n",
       "    <tr>\n",
       "      <th>5160</th>\n",
       "      <td>Q601973</td>\n",
       "      <td>P31</td>\n",
       "      <td>Q5</td>\n",
       "    </tr>\n",
       "    <tr>\n",
       "      <th>5161</th>\n",
       "      <td>Q6109958</td>\n",
       "      <td>P81</td>\n",
       "      <td>Q17055414</td>\n",
       "    </tr>\n",
       "    <tr>\n",
       "      <th>5162</th>\n",
       "      <td>Q5931704</td>\n",
       "      <td>P735</td>\n",
       "      <td>Q839387</td>\n",
       "    </tr>\n",
       "  </tbody>\n",
       "</table>\n",
       "<p>5163 rows × 3 columns</p>\n",
       "</div>"
      ],
      "text/plain": [
       "          head relation       tail\n",
       "id                                \n",
       "0     Q3576734     P495        Q30\n",
       "1      Q641724    P1412      Q1860\n",
       "2      Q959357      P39     Q49476\n",
       "3     Q4263990     P105      Q7432\n",
       "4     Q4119101     P171   Q2906912\n",
       "...        ...      ...        ...\n",
       "5158  Q2609942     P156   Q2611606\n",
       "5159  Q1797671     P106     Q33999\n",
       "5160   Q601973      P31         Q5\n",
       "5161  Q6109958      P81  Q17055414\n",
       "5162  Q5931704     P735    Q839387\n",
       "\n",
       "[5163 rows x 3 columns]"
      ]
     },
     "execution_count": 7,
     "metadata": {},
     "output_type": "execute_result"
    }
   ],
   "source": [
    "valid = pd.read_csv(\n",
    "    dataset.validation_path,\n",
    "    sep=\"\\t\",\n",
    "    names=[\"head\", \"relation\", \"tail\"],\n",
    "    encoding=\"utf-8\",\n",
    ")\n",
    "valid.index.name = \"id\"\n",
    "valid"
   ]
  },
  {
   "cell_type": "code",
   "execution_count": 8,
   "metadata": {},
   "outputs": [],
   "source": [
    "def get_nodes_representation(df, base_df):\n",
    "    unique_nodes = list(\n",
    "        set(list(df[\"head\"]) + list(df[\"tail\"]))\n",
    "        & set(list(base_df[\"head\"]) + list(base_df[\"tail\"]))\n",
    "    )\n",
    "    nodes = {node: [] for node in unique_nodes}\n",
    "\n",
    "    # where node is a head\n",
    "    base_df = base_df.reset_index().set_index(\"head\")\n",
    "\n",
    "    for i, row in tqdm(base_df.iterrows(), total=len(base_df)):\n",
    "        if i in nodes.keys():\n",
    "            nodes[i].append((\"head\", row[\"relation\"], row[\"tail\"]))\n",
    "\n",
    "    base_df = base_df.reset_index().set_index(\"tail\")\n",
    "\n",
    "    # where node is a tail\n",
    "    for i, row in tqdm(base_df.iterrows(), total=len(base_df)):\n",
    "        if i in nodes.keys():\n",
    "            nodes[i].append((\"tail\", row[\"relation\"], row[\"head\"]))\n",
    "\n",
    "    return nodes"
   ]
  },
  {
   "cell_type": "code",
   "execution_count": 9,
   "metadata": {},
   "outputs": [
    {
     "name": "stderr",
     "output_type": "stream",
     "text": [
      "100%|██████████| 20614279/20614279 [04:55<00:00, 69721.97it/s]\n",
      "100%|██████████| 20614279/20614279 [05:00<00:00, 68512.05it/s]\n",
      "100%|██████████| 20614279/20614279 [03:25<00:00, 100237.50it/s]\n",
      "100%|██████████| 20614279/20614279 [04:06<00:00, 83525.18it/s]\n",
      "100%|██████████| 20614279/20614279 [03:21<00:00, 102227.02it/s]\n",
      "100%|██████████| 20614279/20614279 [04:16<00:00, 80330.12it/s]\n"
     ]
    }
   ],
   "source": [
    "nodes_train = get_nodes_representation(df=train, base_df=train)\n",
    "nodes_test = get_nodes_representation(df=test, base_df=train)\n",
    "nodes_valid = get_nodes_representation(df=valid, base_df=train)"
   ]
  },
  {
   "cell_type": "code",
   "execution_count": 10,
   "metadata": {},
   "outputs": [
    {
     "data": {
      "text/plain": [
       "[Text(0.5, 1.0, 'Distribution of neighbourhood sizes of train nodes in the Wikidata5M train subset')]"
      ]
     },
     "execution_count": 10,
     "metadata": {},
     "output_type": "execute_result"
    },
    {
     "data": {
      "image/png": "[encoded data removed]",
      "text/plain": [
       "<Figure size 640x480 with 1 Axes>"
      ]
     },
     "metadata": {},
     "output_type": "display_data"
    }
   ],
   "source": [
    "temp_df = pd.DataFrame(\n",
    "    [len(nodes_train[x]) for x in nodes_train.keys()],\n",
    "    columns=[\"Neighbourhood size\"],\n",
    ")\n",
    "sns.histplot(data=temp_df, x=\"Neighbourhood size\", binwidth=2, binrange=(0, 100)).set(\n",
    "    title=\"Distribution of neighbourhood sizes of train nodes in the Wikidata5M train subset\"\n",
    ")"
   ]
  },
  {
   "cell_type": "code",
   "execution_count": 11,
   "metadata": {},
   "outputs": [
    {
     "data": {
      "text/plain": [
       "(Neighbourhood size    8.974145\n",
       " dtype: float64,\n",
       " Neighbourhood size    4.0\n",
       " dtype: float64)"
      ]
     },
     "execution_count": 11,
     "metadata": {},
     "output_type": "execute_result"
    }
   ],
   "source": [
    "temp_df.mean(), temp_df.median()"
   ]
  },
  {
   "cell_type": "code",
   "execution_count": 12,
   "metadata": {},
   "outputs": [
    {
     "data": {
      "text/plain": [
       "[Text(0.5, 1.0, 'Distribution of neighbourhood sizes of test nodes in the Wikidata5M train subset')]"
      ]
     },
     "execution_count": 12,
     "metadata": {},
     "output_type": "execute_result"
    },
    {
     "data": {
      "image/png": "[encoded data removed]",
      "text/plain": [
       "<Figure size 640x480 with 1 Axes>"
      ]
     },
     "metadata": {},
     "output_type": "display_data"
    }
   ],
   "source": [
    "temp_df = pd.DataFrame(\n",
    "    [len(nodes_test[x]) for x in nodes_test.keys()],\n",
    "    columns=[\"Neighbourhood size\"],\n",
    ")\n",
    "sns.histplot(data=temp_df, x=\"Neighbourhood size\", binwidth=2, binrange=(0, 100)).set(\n",
    "    title=\"Distribution of neighbourhood sizes of test nodes in the Wikidata5M train subset\"\n",
    ")"
   ]
  },
  {
   "cell_type": "code",
   "execution_count": 13,
   "metadata": {},
   "outputs": [
    {
     "data": {
      "text/plain": [
       "(Neighbourhood size    1403.148058\n",
       " dtype: float64,\n",
       " Neighbourhood size    10.0\n",
       " dtype: float64)"
      ]
     },
     "execution_count": 13,
     "metadata": {},
     "output_type": "execute_result"
    }
   ],
   "source": [
    "temp_df.mean(), temp_df.median()"
   ]
  },
  {
   "cell_type": "code",
   "execution_count": 14,
   "metadata": {},
   "outputs": [
    {
     "data": {
      "text/plain": [
       "[Text(0.5, 1.0, 'Distribution of neighbourhood sizes of valid nodes in the Wikidata5M train subset')]"
      ]
     },
     "execution_count": 14,
     "metadata": {},
     "output_type": "execute_result"
    },
    {
     "data": {
      "image/png": "[encoded data removed]",
      "text/plain": [
       "<Figure size 640x480 with 1 Axes>"
      ]
     },
     "metadata": {},
     "output_type": "display_data"
    }
   ],
   "source": [
    "temp_df = pd.DataFrame(\n",
    "    [len(nodes_valid[x]) for x in nodes_valid.keys()],\n",
    "    columns=[\"Neighbourhood size\"],\n",
    ")\n",
    "sns.histplot(data=temp_df, x=\"Neighbourhood size\", binwidth=2, binrange=(0, 100)).set(\n",
    "    title=\"Distribution of neighbourhood sizes of valid nodes in the Wikidata5M train subset\"\n",
    ")"
   ]
  },
  {
   "cell_type": "code",
   "execution_count": 15,
   "metadata": {},
   "outputs": [
    {
     "data": {
      "text/plain": [
       "(Neighbourhood size    1405.261442\n",
       " dtype: float64,\n",
       " Neighbourhood size    10.0\n",
       " dtype: float64)"
      ]
     },
     "execution_count": 15,
     "metadata": {},
     "output_type": "execute_result"
    }
   ],
   "source": [
    "temp_df.mean(), temp_df.median()"
   ]
  },
  {
   "cell_type": "code",
   "execution_count": null,
   "metadata": {},
   "outputs": [],
   "source": []
  }
 ],
 "metadata": {
  "kernelspec": {
   "display_name": "Python 3.9.13 ('env': venv)",
   "language": "python",
   "name": "python3"
  },
  "language_info": {
   "codemirror_mode": {
    "name": "ipython",
    "version": 3
   },
   "file_extension": ".py",
   "mimetype": "text/x-python",
   "name": "python",
   "nbconvert_exporter": "python",
   "pygments_lexer": "ipython3",
   "version": "3.10.9"
  },
  "orig_nbformat": 4,
  "vscode": {
   "interpreter": {
    "hash": "9fab67f834c345e5ed104223a1eac470af564499f1560deec034b2386cd2bbe4"
   }
  }
 },
 "nbformat": 4,
 "nbformat_minor": 2
}
