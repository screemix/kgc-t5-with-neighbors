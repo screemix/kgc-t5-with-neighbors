{
 "cells": [
  {
   "cell_type": "code",
   "execution_count": 1,
   "metadata": {},
   "outputs": [],
   "source": [
    "import pandas as pd\n",
    "from tqdm import tqdm\n",
    "from pykeen import datasets"
   ]
  },
  {
   "attachments": {},
   "cell_type": "markdown",
   "metadata": {},
   "source": [
    "### 1to1 mapping from kgt5 paper (https://github.com/apoorvumang/kgt5/issues/18#issuecomment-1227189777)"
   ]
  },
  {
   "cell_type": "code",
   "execution_count": 2,
   "metadata": {},
   "outputs": [],
   "source": [
    "! mkdir ../data/mappings"
   ]
  },
  {
   "cell_type": "code",
   "execution_count": 3,
   "metadata": {},
   "outputs": [
    {
     "name": "stdout",
     "output_type": "stream",
     "text": [
      "--2023-10-30 15:23:52--  https://storage.googleapis.com/t5-kgc-colab/data/wd5m_aliases_entities_v3.txt\n",
      "Resolving storage.googleapis.com (storage.googleapis.com)... 64.233.162.207, 64.233.165.207, 173.194.73.207, ...\n",
      "Connecting to storage.googleapis.com (storage.googleapis.com)|64.233.162.207|:443... connected.\n",
      "HTTP request sent, awaiting response... 200 OK\n",
      "Length: 147298212 (140M) [text/plain]\n",
      "Saving to: ‘../data/mappings/wd5m_aliases_entities_v3.txt’\n",
      "\n",
      "wd5m_aliases_entiti 100%[===================>] 140,47M  12,7MB/s    in 13s     \n",
      "\n",
      "2023-10-30 15:24:07 (11,0 MB/s) - ‘../data/mappings/wd5m_aliases_entities_v3.txt’ saved [147298212/147298212]\n",
      "\n",
      "--2023-10-30 15:24:07--  https://storage.googleapis.com/t5-kgc-colab/data/wd5m_aliases_relations_v3.txt\n",
      "Resolving storage.googleapis.com (storage.googleapis.com)... 173.194.73.207, 173.194.221.207, 209.85.233.207, ...\n",
      "Connecting to storage.googleapis.com (storage.googleapis.com)|173.194.73.207|:443... connected.\n",
      "HTTP request sent, awaiting response... 200 OK\n",
      "Length: 18468 (18K) [text/plain]\n",
      "Saving to: ‘../data/mappings/wd5m_aliases_relations_v3.txt’\n",
      "\n",
      "wd5m_aliases_relati 100%[===================>]  18,04K  --.-KB/s    in 0,02s   \n",
      "\n",
      "2023-10-30 15:24:07 (1,11 MB/s) - ‘../data/mappings/wd5m_aliases_relations_v3.txt’ saved [18468/18468]\n",
      "\n"
     ]
    }
   ],
   "source": [
    "! wget -P ../data/mappings https://storage.googleapis.com/t5-kgc-colab/data/wd5m_aliases_entities_v3.txt\n",
    "! wget -P ../data/mappings https://storage.googleapis.com/t5-kgc-colab/data/wd5m_aliases_relations_v3.txt"
   ]
  },
  {
   "cell_type": "code",
   "execution_count": 4,
   "metadata": {},
   "outputs": [
    {
     "name": "stdout",
     "output_type": "stream",
     "text": [
      "wd5m_aliases_entities_v3.txt  wd5m_aliases_relations_v3.txt\n"
     ]
    }
   ],
   "source": [
    "! ls ../data/mappings"
   ]
  },
  {
   "cell_type": "code",
   "execution_count": 5,
   "metadata": {},
   "outputs": [],
   "source": [
    "entity_v3_path = '../data/mappings/wd5m_aliases_entities_v3.txt'\n",
    "relation_v3_path = '../data/mappings/wd5m_aliases_relations_v3.txt'"
   ]
  },
  {
   "cell_type": "markdown",
   "metadata": {},
   "source": [
    "Checking 1to1 condition "
   ]
  },
  {
   "cell_type": "code",
   "execution_count": 6,
   "metadata": {},
   "outputs": [
    {
     "name": "stderr",
     "output_type": "stream",
     "text": [
      "4818679it [00:08, 597722.09it/s]\n"
     ]
    },
    {
     "data": {
      "text/plain": [
       "4818679"
      ]
     },
     "execution_count": 6,
     "metadata": {},
     "output_type": "execute_result"
    }
   ],
   "source": [
    "entity_mapping = {}\n",
    "without_name = []\n",
    "duplicates = []\n",
    "\n",
    "with open(entity_v3_path, 'r') as f:\n",
    "    for line in tqdm(f):\n",
    "        line = line.strip().split('\\t') \n",
    "        \n",
    "        if len(line) < 2:\n",
    "            without_name.append(line[0])\n",
    "        else:\n",
    "            id, name = line[0], line[1]\n",
    "\n",
    "            if id not in entity_mapping.keys():\n",
    "                entity_mapping[id] = name    \n",
    "            else:\n",
    "                duplicates.append((id, name, entity_mapping[id]))\n",
    "\n",
    "assert len(without_name) == 0 and len(duplicates) == 0\n",
    "assert len(set(entity_mapping.keys())) == len(set(entity_mapping.values()))\n",
    "len(entity_mapping.keys())"
   ]
  },
  {
   "cell_type": "code",
   "execution_count": 7,
   "metadata": {},
   "outputs": [
    {
     "name": "stderr",
     "output_type": "stream",
     "text": [
      "828it [00:00, 715173.75it/s]\n"
     ]
    },
    {
     "data": {
      "text/plain": [
       "828"
      ]
     },
     "execution_count": 7,
     "metadata": {},
     "output_type": "execute_result"
    }
   ],
   "source": [
    "relation_mapping = {}\n",
    "without_name = []\n",
    "duplicates = []\n",
    "\n",
    "with open(relation_v3_path, 'r') as f:\n",
    "    for line in tqdm(f):\n",
    "        line = line.strip().split('\\t') \n",
    "        \n",
    "        if len(line) < 2:\n",
    "            without_name.append(line[0])\n",
    "        else:\n",
    "            id, name = line[0], line[1]\n",
    "\n",
    "            if id not in relation_mapping.keys():\n",
    "                relation_mapping[id] = name    \n",
    "            else:\n",
    "                duplicates.append(( id, name, relation_mapping[id]))\n",
    "\n",
    "assert len(without_name) == 0 and len(duplicates) == 0\n",
    "assert len(set(relation_mapping.keys())) == len(set(relation_mapping.values()))\n",
    "len(relation_mapping.keys())"
   ]
  },
  {
   "cell_type": "markdown",
   "metadata": {},
   "source": [
    "Checking that mappings are sufficient for the dataset"
   ]
  },
  {
   "cell_type": "code",
   "execution_count": 8,
   "metadata": {},
   "outputs": [],
   "source": [
    "dataset = datasets.Wikidata5M()\n",
    "train_df = pd.read_csv(\n",
    "    dataset.training_path,\n",
    "    sep=\"\\t\",\n",
    "    names=[\"head\", \"relation\", \"tail\"],\n",
    "    encoding=\"utf-8\",\n",
    ")\n",
    "valid_df = pd.read_csv(\n",
    "    dataset.validation_path,\n",
    "    sep=\"\\t\",\n",
    "    names=[\"head\", \"relation\", \"tail\"],\n",
    "    encoding=\"utf-8\",\n",
    ")\n",
    "test_df = pd.read_csv(\n",
    "    dataset.testing_path,\n",
    "    sep=\"\\t\",\n",
    "    names=[\"head\", \"relation\", \"tail\"],\n",
    "    encoding=\"utf-8\",\n",
    ")"
   ]
  },
  {
   "cell_type": "code",
   "execution_count": 9,
   "metadata": {},
   "outputs": [
    {
     "data": {
      "text/plain": [
       "4594485"
      ]
     },
     "execution_count": 9,
     "metadata": {},
     "output_type": "execute_result"
    }
   ],
   "source": [
    "entities = set(list(train_df['head'].unique()) + list(train_df['tail'].unique()) + \n",
    "    list(valid_df['head'].unique()) + list(valid_df['tail'].unique()) + \n",
    "    list(test_df['head'].unique()) + list(test_df['tail'].unique()))\n",
    "    \n",
    "assert all(elem in entity_mapping.keys()  for elem in entities)\n",
    "len(entities)"
   ]
  },
  {
   "cell_type": "code",
   "execution_count": 10,
   "metadata": {},
   "outputs": [
    {
     "data": {
      "text/plain": [
       "822"
      ]
     },
     "execution_count": 10,
     "metadata": {},
     "output_type": "execute_result"
    }
   ],
   "source": [
    "relations = set(list(train_df['relation']) + list(valid_df['relation']) + list(test_df['relation']))\n",
    "assert all(elem in relation_mapping.keys()  for elem in relations)\n",
    "len(relations)"
   ]
  }
 ],
 "metadata": {
  "kernelspec": {
   "display_name": "t5venv",
   "language": "python",
   "name": "t5venv"
  },
  "orig_nbformat": 4,
  "vscode": {
   "interpreter": {
    "hash": "9fab67f834c345e5ed104223a1eac470af564499f1560deec034b2386cd2bbe4"
   }
  }
 },
 "nbformat": 4,
 "nbformat_minor": 2
}
